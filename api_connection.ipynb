{
  "nbformat": 4,
  "nbformat_minor": 0,
  "metadata": {
    "colab": {
      "provenance": []
    },
    "kernelspec": {
      "name": "python3",
      "display_name": "Python 3"
    },
    "language_info": {
      "name": "python"
    }
  },
  "cells": [
    {
      "cell_type": "code",
      "execution_count": 86,
      "metadata": {
        "id": "S3Pa11qOQF5Q"
      },
      "outputs": [],
      "source": [
        "import requests\n",
        "import json\n",
        "import random"
      ]
    },
    {
      "cell_type": "code",
      "source": [
        "BASE_URL = \"http://geodb-free-service.wirefreethought.com\""
      ],
      "metadata": {
        "id": "Ia97LST_XI_h"
      },
      "execution_count": 87,
      "outputs": []
    },
    {
      "cell_type": "code",
      "source": [
        "def print_json(json_info):\n",
        "  print(type(json_info))\n",
        "  if type(json_info) == requests.models.Response:\n",
        "    print(json.dumps(json_info.json(), indent=2))\n",
        "  else:\n",
        "    print(json_info)"
      ],
      "metadata": {
        "id": "NlYrH7jRUume"
      },
      "execution_count": 88,
      "outputs": []
    },
    {
      "cell_type": "code",
      "source": [
        "def do_get_request(request_argument):\n",
        "  response = requests.get(f'{BASE_URL}{request_argument}')\n",
        "  print(response.status_code)\n",
        "  print_json(response)\n",
        "  return response"
      ],
      "metadata": {
        "id": "nYAqDBa8RcM7"
      },
      "execution_count": 89,
      "outputs": []
    },
    {
      "cell_type": "code",
      "source": [
        "request_argument = \"/v1/geo/places?limit=1&offset=0\"\n",
        "response = do_get_request(request_argument)"
      ],
      "metadata": {
        "colab": {
          "base_uri": "https://localhost:8080/"
        },
        "id": "ZOan8N1-Tt7q",
        "outputId": "d97012c5-8553-45cb-e0f5-050a2a53ce4e"
      },
      "execution_count": 90,
      "outputs": [
        {
          "output_type": "stream",
          "name": "stdout",
          "text": [
            "200\n",
            "<class 'requests.models.Response'>\n",
            "{\n",
            "  \"links\": [\n",
            "    {\n",
            "      \"rel\": \"first\",\n",
            "      \"href\": \"/v1/geo/places?offset=0&limit=1\"\n",
            "    },\n",
            "    {\n",
            "      \"rel\": \"next\",\n",
            "      \"href\": \"/v1/geo/places?offset=1&limit=1\"\n",
            "    },\n",
            "    {\n",
            "      \"rel\": \"last\",\n",
            "      \"href\": \"/v1/geo/places?offset=28209&limit=1\"\n",
            "    }\n",
            "  ],\n",
            "  \"data\": [\n",
            "    {\n",
            "      \"id\": 659,\n",
            "      \"wikiDataId\": \"Q1519\",\n",
            "      \"type\": \"CITY\",\n",
            "      \"name\": \"Abu Dhabi\",\n",
            "      \"country\": \"United Arab Emirates\",\n",
            "      \"countryCode\": \"AE\",\n",
            "      \"region\": \"Emirate of Abu Dhabi\",\n",
            "      \"regionCode\": \"AZ\",\n",
            "      \"regionWdId\": \"Q187712\",\n",
            "      \"latitude\": 24.451111111,\n",
            "      \"longitude\": 54.396944444,\n",
            "      \"population\": 1483000,\n",
            "      \"distance\": null,\n",
            "      \"placeType\": \"CITY\"\n",
            "    }\n",
            "  ],\n",
            "  \"metadata\": {\n",
            "    \"currentOffset\": 0,\n",
            "    \"totalCount\": 28210\n",
            "  }\n",
            "}\n"
          ]
        }
      ]
    },
    {
      "cell_type": "code",
      "source": [
        "data = response.json()\n",
        "max_random_limit = data[\"metadata\"][\"totalCount\"]\n",
        "random_number = random.randint(0, max_random_limit-1)\n",
        "print(random_number)"
      ],
      "metadata": {
        "colab": {
          "base_uri": "https://localhost:8080/"
        },
        "id": "Ci5mWzeeX7d6",
        "outputId": "ddc8658e-97f9-4109-c711-3b6c90f37463"
      },
      "execution_count": 91,
      "outputs": [
        {
          "output_type": "stream",
          "name": "stdout",
          "text": [
            "18817\n"
          ]
        }
      ]
    },
    {
      "cell_type": "code",
      "source": [
        "place_request_argument = f\"/v1/geo/places?limit=1&offset={random_number}\"\n",
        "place_response = do_get_request(place_request_argument)"
      ],
      "metadata": {
        "colab": {
          "base_uri": "https://localhost:8080/"
        },
        "id": "EaM7rQfOYhbr",
        "outputId": "6520a464-af66-4615-ead8-676a4d4a4ec5"
      },
      "execution_count": 92,
      "outputs": [
        {
          "output_type": "stream",
          "name": "stdout",
          "text": [
            "200\n",
            "<class 'requests.models.Response'>\n",
            "{\n",
            "  \"links\": [\n",
            "    {\n",
            "      \"rel\": \"first\",\n",
            "      \"href\": \"/v1/geo/places?offset=0&limit=1\"\n",
            "    },\n",
            "    {\n",
            "      \"rel\": \"prev\",\n",
            "      \"href\": \"/v1/geo/places?offset=18816&limit=1\"\n",
            "    },\n",
            "    {\n",
            "      \"rel\": \"next\",\n",
            "      \"href\": \"/v1/geo/places?offset=18818&limit=1\"\n",
            "    },\n",
            "    {\n",
            "      \"rel\": \"last\",\n",
            "      \"href\": \"/v1/geo/places?offset=28209&limit=1\"\n",
            "    }\n",
            "  ],\n",
            "  \"data\": [\n",
            "    {\n",
            "      \"id\": 159241,\n",
            "      \"wikiDataId\": \"Q1947973\",\n",
            "      \"type\": \"ADM2\",\n",
            "      \"name\": \"Espinar Province\",\n",
            "      \"country\": \"Peru\",\n",
            "      \"countryCode\": \"PE\",\n",
            "      \"region\": \"Cusco\",\n",
            "      \"regionCode\": \"CUS\",\n",
            "      \"regionWdId\": \"Q205057\",\n",
            "      \"latitude\": -14.792144444,\n",
            "      \"longitude\": -71.410447222,\n",
            "      \"population\": 57582,\n",
            "      \"distance\": null,\n",
            "      \"placeType\": \"ADM2\"\n",
            "    }\n",
            "  ],\n",
            "  \"metadata\": {\n",
            "    \"currentOffset\": 18817,\n",
            "    \"totalCount\": 28210\n",
            "  }\n",
            "}\n"
          ]
        }
      ]
    },
    {
      "cell_type": "code",
      "source": [
        "def get_place_details(place_id):\n",
        "  get_details_argument = f\"/v1/geo/places/{place_id}\"\n",
        "  place_response = do_get_request(get_details_argument)"
      ],
      "metadata": {
        "id": "8XBCMwfxaA4H"
      },
      "execution_count": 93,
      "outputs": []
    },
    {
      "cell_type": "code",
      "source": [
        "place_data = place_response.json()\n",
        "place_id = place_data[\"data\"][0][\"id\"]\n",
        "place_data = place_data[\"data\"][0]\n",
        "place_details = get_place_details(place_id)\n",
        "print(place_data)"
      ],
      "metadata": {
        "colab": {
          "base_uri": "https://localhost:8080/"
        },
        "id": "XcVmRJ28ZSMX",
        "outputId": "0aeb2402-599d-44b5-cc4a-2bfacdfab745"
      },
      "execution_count": 96,
      "outputs": [
        {
          "output_type": "stream",
          "name": "stdout",
          "text": [
            "200\n",
            "<class 'requests.models.Response'>\n",
            "{\n",
            "  \"data\": {\n",
            "    \"id\": 159241,\n",
            "    \"wikiDataId\": \"Q1947973\",\n",
            "    \"type\": \"ADM2\",\n",
            "    \"city\": \"Espinar Province\",\n",
            "    \"name\": \"Espinar Province\",\n",
            "    \"country\": \"Peru\",\n",
            "    \"countryCode\": \"PE\",\n",
            "    \"region\": \"Cusco\",\n",
            "    \"regionCode\": \"CUS\",\n",
            "    \"regionWdId\": \"Q205057\",\n",
            "    \"elevationMeters\": null,\n",
            "    \"latitude\": -14.792144444,\n",
            "    \"longitude\": -71.410447222,\n",
            "    \"population\": 57582,\n",
            "    \"timezone\": \"America__Lima\",\n",
            "    \"distance\": null,\n",
            "    \"deleted\": false,\n",
            "    \"placeType\": \"ADM2\"\n",
            "  }\n",
            "}\n",
            "{'id': 159241, 'wikiDataId': 'Q1947973', 'type': 'ADM2', 'name': 'Espinar Province', 'country': 'Peru', 'countryCode': 'PE', 'region': 'Cusco', 'regionCode': 'CUS', 'regionWdId': 'Q205057', 'latitude': -14.792144444, 'longitude': -71.410447222, 'population': 57582, 'distance': None, 'placeType': 'ADM2'}\n"
          ]
        }
      ]
    }
  ]
}