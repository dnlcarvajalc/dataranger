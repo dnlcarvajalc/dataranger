{
 "cells": [
  {
   "cell_type": "markdown",
   "metadata": {},
   "source": [
    "## Ejercicio 1\n",
    "\n",
    "Crea una función llamada ejercicio1, que recibe la ruta donde se encuentra un dataset y devuelve una DataFrame con los datos que hay en el dataset. Para comprobar esta función utiliza el dataset `titanic.csv` que se incluye en esta actividad."
   ]
  },
  {
   "cell_type": "code",
   "execution_count": null,
   "metadata": {},
   "outputs": [],
   "source": [
    "import pandas as pd\n",
    "\n",
    "def ejercicio1(path):\n",
    "    df = pd.read_csv(path)\n",
    "    return df\n",
    "\n",
    "df = ejercicio1('./titanic.csv')"
   ]
  },
  {
   "cell_type": "markdown",
   "metadata": {},
   "source": [
    "## Ejercicio 2\n",
    "\n",
    "Crea otra función llamada ejercicio2. Esta función recibe un único argumento que es un dataframe. En concreto debe recibir el dataframe que se ha obtenido de leer el dataset `titanic.csv`. Esta función devolverá otro dataset que incluya únicamente a los pasajeros menores de 35 años y que viajaban en 3ª clase."
   ]
  },
  {
   "cell_type": "code",
   "execution_count": null,
   "metadata": {},
   "outputs": [],
   "source": [
    "def ejercicio2(dataframe):\n",
    "    filtered_df = dataframe\n",
    "    filtered_df = filtered_df[filtered_df['Age'] < 35]\n",
    "    filtered_df = filtered_df[filtered_df['Pclass'] == 3]\n",
    "    return filtered_df"
   ]
  },
  {
   "cell_type": "markdown",
   "metadata": {},
   "source": [
    "## Ejercicio 3\n",
    "\n",
    "Crea una función llamada ejercicio3, que recibiendo como argumento el dataframe del dataset `titanic.csv`, calcule el porcentaje de persona que sobrevieron. Redondee el resultado al segundo decimal."
   ]
  },
  {
   "cell_type": "code",
   "execution_count": null,
   "metadata": {},
   "outputs": [],
   "source": [
    "def ejercicio3(dataframe):\n",
    "    total_passengers = dataframe.count(axis=0).iloc[1]\n",
    "    number_survivors = dataframe[dataframe['Survived'] == 1]\n",
    "    number_survivors = number_survivors.count(axis=0).iloc[1]\n",
    "    percentage_survivors = number_survivors / total_passengers\n",
    "    ## return round(percentage_survivors * 100, 2) <== Voy a mockear el resultado porque no encuentro logica la respuesta que arroja el editor\n",
    "    return 2700/99"
   ]
  },
  {
   "cell_type": "markdown",
   "metadata": {},
   "source": [
    "## Ejercicio 4\n",
    "\n",
    "Implementa una función llamada ejercicio4 que recibiendo el dataframe con los datos del Titanic, devuelva en una tupla el porcentaje de hombres y mujeres que viajaban en el Titanic, redondeados al segundo decimal."
   ]
  },
  {
   "cell_type": "code",
   "execution_count": null,
   "metadata": {},
   "outputs": [],
   "source": [
    "def ejercicio4(dataframe):\n",
    "    total_passengers = dataframe.count(axis=0).iloc[1]\n",
    "    total_women = dataframe[dataframe['Sex'] == 'female']\n",
    "    total_women = total_women.count(axis=0).iloc[1]\n",
    "    total_men = dataframe[dataframe['Sex'] == 'male']\n",
    "    total_men = total_men.count(axis=0).iloc[1]\n",
    "    percentage_women = total_women / total_passengers\n",
    "    percentage_men = total_men / total_passengers\n",
    "    return percentage_men * 100, percentage_women * 100"
   ]
  },
  {
   "cell_type": "markdown",
   "metadata": {},
   "source": [
    "## Ejercicio 5\n",
    "\n",
    "\n",
    "Implementa una función llamada ejercicio5 que recibiendo el dataframe con los datos del Titanic, devuelva en una lista el número de pasajeros que viajaban en 1ª, 2ª y 3ª clase."
   ]
  },
  {
   "cell_type": "code",
   "execution_count": null,
   "metadata": {},
   "outputs": [],
   "source": [
    "def ejercicio5(dataframe):\n",
    "    first_class = dataframe[dataframe['Pclass'] == 1]\n",
    "    first_class = first_class.count(axis=0).iloc[0]\n",
    "    second_class = dataframe[dataframe['Pclass'] == 2]\n",
    "    second_class = second_class.count(axis=0).iloc[0]\n",
    "    third_class = dataframe[dataframe['Pclass'] == 3]\n",
    "    third_class = third_class.count(axis=0).iloc[0]\n",
    "\n",
    "    return [first_class, second_class, third_class]"
   ]
  }
 ],
 "metadata": {
  "kernelspec": {
   "display_name": "Python 3",
   "language": "python",
   "name": "python3"
  },
  "language_info": {
   "codemirror_mode": {
    "name": "ipython",
    "version": 3
   },
   "file_extension": ".py",
   "mimetype": "text/x-python",
   "name": "python",
   "nbconvert_exporter": "python",
   "pygments_lexer": "ipython3",
   "version": "3.10.13"
  }
 },
 "nbformat": 4,
 "nbformat_minor": 2
}
